{
 "cells": [
  {
   "cell_type": "code",
   "execution_count": null,
   "id": "111351b0",
   "metadata": {},
   "outputs": [],
   "source": [
    "<!DOCTYPE html>\n",
    "<html lang=\"ru\">\n",
    "<head>\n",
    "    <meta charset=\"UTF-8\">\n",
    "    <meta name=\"viewport\" content=\"width=device-width, initial-scale=1.0\">\n",
    "    <title>Стимпанк сайт</title>\n",
    "    <link href=\"https://fonts.googleapis.com/css2?family=MedievalSharp&family=Playfair+Display:wght@700&display=swap\" rel=\"stylesheet\">\n",
    "    <link rel=\"stylesheet\" href=\"styles.css\">\n",
    "</head>\n",
    "<body>\n",
    "    <div class=\"container\">\n",
    "        <header class=\"steampunk-header\">\n",
    "            <h1>Добро пожаловать в мир <span>СТИМПАНКА</span></h1>\n",
    "            <div class=\"gears\">\n",
    "                <div class=\"gear\"></div>\n",
    "                <div class=\"gear\"></div>\n",
    "                <div class=\"gear\"></div>\n",
    "            </div>\n",
    "        </header>\n",
    "        \n",
    "        <nav class=\"steampunk-nav\">\n",
    "            <ul>\n",
    "                <li><a href=\"#\">Главная</a></li>\n",
    "                <li><a href=\"#\">Механизмы</a></li>\n",
    "                <li><a href=\"#\">Изобретения</a></li>\n",
    "                <li><a href=\"#\">Контакты</a></li>\n",
    "            </ul>\n",
    "        </nav>\n",
    "        \n",
    "        <main class=\"steampunk-main\">\n",
    "            <section class=\"steampunk-section\">\n",
    "                <h2>Эпоха пара и шестерёнок</h2>\n",
    "                <p>В этом мире технологии приводятся в движение паром, а воздушные корабли бороздят небеса. Добро пожаловать в альтернативную реальность, где викторианская эстетика сочетается с механическими чудесами.</p>\n",
    "                <button class=\"steampunk-btn\">Узнать больше</button>\n",
    "            </section>\n",
    "        </main>\n",
    "        \n",
    "        <footer class=\"steampunk-footer\">\n",
    "            <p>© 2023 Стимпанк Мастерская. Все механизмы защищены.</p>\n",
    "        </footer>\n",
    "    </div>\n",
    "</body>\n",
    "</html>"
   ]
  }
 ],
 "metadata": {
  "language_info": {
   "name": "python"
  }
 },
 "nbformat": 4,
 "nbformat_minor": 5
}
